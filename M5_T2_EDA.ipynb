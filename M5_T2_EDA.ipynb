{
  "nbformat": 4,
  "nbformat_minor": 0,
  "metadata": {
    "colab": {
      "name": "M5_T2_EDA.ipynb",
      "provenance": [],
      "collapsed_sections": [],
      "authorship_tag": "ABX9TyMoBX9l6gTEu861Kgh0nmPf",
      "include_colab_link": true
    },
    "kernelspec": {
      "name": "python3",
      "display_name": "Python 3"
    }
  },
  "cells": [
    {
      "cell_type": "markdown",
      "metadata": {
        "id": "view-in-github",
        "colab_type": "text"
      },
      "source": [
        "<a href=\"https://colab.research.google.com/github/evillag/xtol_m5/blob/master/M5_T2_EDA.ipynb\" target=\"_parent\"><img src=\"https://colab.research.google.com/assets/colab-badge.svg\" alt=\"Open In Colab\"/></a>"
      ]
    },
    {
      "cell_type": "markdown",
      "metadata": {
        "id": "vZBlGwFyycMZ",
        "colab_type": "text"
      },
      "source": [
        "[![Open In Colab](https://colab.research.google.com/assets/colab-badge.svg)](https://colab.research.google.com/github/evillag/xtol_m5/blob/master/M5_T2_EDA.ipynb)\n",
        "\n",
        "# **Task 2: Prepare and Explore the Data**\n",
        "## **Data Science with Python (XTOL - Cenfotec)**\n",
        "## *Author: Esteban  Villalobos*\n",
        "## *March 5$^{th}$, 2020*"
      ]
    },
    {
      "cell_type": "code",
      "metadata": {
        "id": "O1_h6gz2yWnV",
        "colab_type": "code",
        "colab": {}
      },
      "source": [
        ""
      ],
      "execution_count": 0,
      "outputs": []
    }
  ]
}