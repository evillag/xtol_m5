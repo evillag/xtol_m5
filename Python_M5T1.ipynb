{
 "cells": [
  {
   "cell_type": "markdown",
   "metadata": {},
   "source": [
    "# Exercises from chapters 4 and 5 from the book *Python Data Science for Dummies* by Luca Massaron and John Paul Mueller; first edition, 2015\n",
    "\n",
    "### Student: Esteban Villalobos\n",
    "### Date: Feb, 20th, 2020\n",
    "\n",
    "# Chapter 4: *Reviewing Basic Python*\n",
    "\n",
    "## Working with Numbers and Logic"
   ]
  },
  {
   "cell_type": "code",
   "execution_count": 51,
   "metadata": {},
   "outputs": [
    {
     "name": "stdout",
     "output_type": "stream",
     "text": [
      "2\n",
      "7\n",
      "5\n",
      "10\n",
      "5.0\n",
      "1.0\n",
      "25\n",
      "2\n"
     ]
    }
   ],
   "source": [
    "# Python Assignment Operators\n",
    "MyVar = 2\n",
    "print(MyVar)\n",
    "MyVar += 5\n",
    "print(MyVar)\n",
    "MyVar -= 2\n",
    "print(MyVar)\n",
    "MyVar *= 2\n",
    "print(MyVar)\n",
    "MyVar /= 2 \n",
    "print(MyVar)\n",
    "MyVar %= 2\n",
    "print(MyVar)\n",
    "MyVar = 5\n",
    "print(MyVar ** 2 )\n",
    "MyVar //= 2\n",
    "print(MyVar)"
   ]
  },
  {
   "cell_type": "code",
   "execution_count": 80,
   "metadata": {},
   "outputs": [
    {
     "name": "stdout",
     "output_type": "stream",
     "text": [
      "5 + 2 = 7\n",
      "5 - 2 = 3\n",
      "5 * 2 = 10\n",
      "5 / 2 = 2.5\n",
      "5 % 2 = 1\n",
      "5 ** 2 = 25\n",
      "5 // 2 = 2 (floor division)\n"
     ]
    }
   ],
   "source": [
    "# Python Arithmetic Operators\n",
    "print(f\"5 + 2 = {5+2}\\n5 - 2 = {5-2}\\n5 * 2 = {5*2}\\n5 / 2 = {5/2}\\n\"\n",
    "      f\"5 % 2 = {5%2}\\n5 ** 2 = {5**2}\\n5 // 2 = {5//2} (floor division)\")"
   ]
  },
  {
   "cell_type": "code",
   "execution_count": 62,
   "metadata": {},
   "outputs": [
    {
     "name": "stdout",
     "output_type": "stream",
     "text": [
      "~4 = -5\n",
      "-(-4) = 4\n",
      "-4\n",
      "4\n"
     ]
    }
   ],
   "source": [
    "# Python Unary Operators\n",
    "print(f\"~4 = {~4}\\n-(-4) = {-(-4)}\\n{-4}\\n{4}\")"
   ]
  },
  {
   "cell_type": "code",
   "execution_count": 71,
   "metadata": {},
   "outputs": [
    {
     "name": "stdout",
     "output_type": "stream",
     "text": [
      "0b1100 & 0b0110 = 0b100\n",
      "0b1100 | 0b0110 = 0b1110\n",
      "0b1100 ^ 0b0110 = 0b1010\n",
      "~0b1100 = -0b1101\n",
      "~0b0110 = -0b111\n",
      "0b00110011 << 2 = 0b11001100\n",
      "0b00110011 >> 2 = 0b1100\n"
     ]
    }
   ],
   "source": [
    "# Python Bitwise Operators\n",
    "print(f\"0b1100 & 0b0110 = {bin(0b1100 & 0b0110)}\")\n",
    "print(f\"0b1100 | 0b0110 = {bin(0b1100 | 0b0110)}\")\n",
    "print(f\"0b1100 ^ 0b0110 = {bin(0b1100 ^ 0b0110)}\")\n",
    "print(f\"~0b1100 = {bin(~0b1100)}\")\n",
    "print(f\"~0b0110 = {bin(~0b0110)}\")\n",
    "print(f\"0b00110011 << 2 = {bin(0b00110011 << 2)}\")\n",
    "print(f\"0b00110011 >> 2 = {bin(0b00110011 >> 2)}\")"
   ]
  },
  {
   "cell_type": "code",
   "execution_count": 75,
   "metadata": {},
   "outputs": [
    {
     "name": "stdout",
     "output_type": "stream",
     "text": [
      "False\n",
      "True\n",
      "False\n",
      "True\n",
      "False\n",
      "True\n"
     ]
    }
   ],
   "source": [
    "# Python Relational Operators\n",
    "print(1 == 2)\n",
    "print(1 != 2)\n",
    "print(1 > 2)\n",
    "print(1 < 2)\n",
    "print(1 >= 2)\n",
    "print(1 <= 2)\n"
   ]
  },
  {
   "cell_type": "code",
   "execution_count": 79,
   "metadata": {},
   "outputs": [
    {
     "name": "stdout",
     "output_type": "stream",
     "text": [
      "True\n",
      "False\n",
      "False\n",
      "False\n",
      "True\n",
      "True\n",
      "True\n",
      "False\n",
      "False\n",
      "True\n"
     ]
    }
   ],
   "source": [
    "# Python Logical Operators\n",
    "print(True and True)\n",
    "print(True and False)\n",
    "print(False and True)\n",
    "print(False and False)\n",
    "\n",
    "print(True or True)\n",
    "print(True or False)\n",
    "print(False or True)\n",
    "print(False or False)\n",
    "\n",
    "print(not True)\n",
    "print(not False)\n"
   ]
  },
  {
   "cell_type": "markdown",
   "metadata": {},
   "source": [
    "## Creating and Using Strings"
   ]
  },
  {
   "cell_type": "code",
   "execution_count": 93,
   "metadata": {},
   "outputs": [
    {
     "name": "stdout",
     "output_type": "stream",
     "text": [
      "Python is a great language.\n",
      "Numeric representation of letter A is 65\n",
      "123\n",
      "1234.56\n",
      "True\n",
      "False\n"
     ]
    }
   ],
   "source": [
    "myString = \"Python is a great language.\"\n",
    "print(myString)\n",
    "\n",
    "print(f\"Numeric representation of letter A is {ord('A')}\")\n",
    "\n",
    "#String to number conversion\n",
    "myInt = int(\"123\")\n",
    "print(myInt)\n",
    "\n",
    "#Number to String conversion\n",
    "myStr = str(1234.56)\n",
    "print(myStr)\n",
    "\n",
    "# Python Membership Operators\n",
    "print(\"Hello\" in \"Hello Goodbye\")\n",
    "print(\"Hello\" not in \"Hello Goodbye\")"
   ]
  },
  {
   "cell_type": "code",
   "execution_count": 95,
   "metadata": {},
   "outputs": [
    {
     "name": "stdout",
     "output_type": "stream",
     "text": [
      "True\n",
      "False\n"
     ]
    }
   ],
   "source": [
    "#  Python Identity Operators\n",
    "print(type(2) is int)\n",
    "print(type(2) is not int)"
   ]
  },
  {
   "cell_type": "markdown",
   "metadata": {},
   "source": [
    "## Interacting with Dates"
   ]
  },
  {
   "cell_type": "code",
   "execution_count": 1,
   "metadata": {},
   "outputs": [
    {
     "data": {
      "text/plain": [
       "datetime.datetime(2020, 2, 19, 23, 48, 52, 39679)"
      ]
     },
     "execution_count": 1,
     "metadata": {},
     "output_type": "execute_result"
    }
   ],
   "source": [
    "import datetime\n",
    "\n",
    "# Get the current date and time using the now() command.\n",
    "datetime.datetime.now()"
   ]
  },
  {
   "cell_type": "code",
   "execution_count": 4,
   "metadata": {},
   "outputs": [
    {
     "data": {
      "text/plain": [
       "'2020-02-19'"
      ]
     },
     "execution_count": 4,
     "metadata": {},
     "output_type": "execute_result"
    }
   ],
   "source": [
    "# Make the date and time more readable using the str() command.\n",
    "str(datetime.datetime.now().date())"
   ]
  },
  {
   "cell_type": "markdown",
   "metadata": {},
   "source": [
    "## Creating reusable functions"
   ]
  },
  {
   "cell_type": "code",
   "execution_count": 6,
   "metadata": {},
   "outputs": [
    {
     "name": "stdout",
     "output_type": "stream",
     "text": [
      "Hello There!\n"
     ]
    }
   ],
   "source": [
    "def SayHello():\n",
    "    print('Hello There!')\n",
    "    \n",
    "SayHello()"
   ]
  },
  {
   "cell_type": "markdown",
   "metadata": {},
   "source": [
    "## Calling functions in a variety of ways"
   ]
  },
  {
   "cell_type": "code",
   "execution_count": 8,
   "metadata": {},
   "outputs": [
    {
     "ename": "TypeError",
     "evalue": "DoSum() missing 2 required positional arguments: 'Value1' and 'Value2'",
     "output_type": "error",
     "traceback": [
      "\u001b[1;31m---------------------------------------------------------------------------\u001b[0m",
      "\u001b[1;31mTypeError\u001b[0m                                 Traceback (most recent call last)",
      "\u001b[1;32m<ipython-input-8-770f152214cd>\u001b[0m in \u001b[0;36m<module>\u001b[1;34m\u001b[0m\n\u001b[0;32m      3\u001b[0m     \u001b[1;32mreturn\u001b[0m \u001b[0mValue1\u001b[0m \u001b[1;33m+\u001b[0m \u001b[0mValue2\u001b[0m\u001b[1;33m\u001b[0m\u001b[1;33m\u001b[0m\u001b[0m\n\u001b[0;32m      4\u001b[0m \u001b[1;33m\u001b[0m\u001b[0m\n\u001b[1;32m----> 5\u001b[1;33m \u001b[0mDoSum\u001b[0m\u001b[1;33m(\u001b[0m\u001b[1;33m)\u001b[0m\u001b[1;33m\u001b[0m\u001b[1;33m\u001b[0m\u001b[0m\n\u001b[0m",
      "\u001b[1;31mTypeError\u001b[0m: DoSum() missing 2 required positional arguments: 'Value1' and 'Value2'"
     ]
    }
   ],
   "source": [
    "# Sending required arguments\n",
    "def DoSum(Value1, Value2):\n",
    "    return Value1 + Value2\n",
    "\n",
    "DoSum()"
   ]
  },
  {
   "cell_type": "code",
   "execution_count": 9,
   "metadata": {},
   "outputs": [
    {
     "data": {
      "text/plain": [
       "3"
      ]
     },
     "execution_count": 9,
     "metadata": {},
     "output_type": "execute_result"
    }
   ],
   "source": [
    "DoSum(1, 2)"
   ]
  },
  {
   "cell_type": "code",
   "execution_count": 12,
   "metadata": {},
   "outputs": [
    {
     "name": "stdout",
     "output_type": "stream",
     "text": [
      "2 + 3 = 5\n",
      "2 + 3 = 5\n"
     ]
    }
   ],
   "source": [
    "# Sending arguments by keyword\n",
    "def DisplaySum(Value1, Value2):\n",
    "    print(str(Value1) + ' + ' + str(Value2) + ' = ' +\n",
    "    str((Value1 + Value2)))\n",
    "    \n",
    "DisplaySum(2, 3)\n",
    "\n",
    "DisplaySum(Value2 = 3, Value1 = 2)"
   ]
  },
  {
   "cell_type": "code",
   "execution_count": 13,
   "metadata": {},
   "outputs": [
    {
     "name": "stdout",
     "output_type": "stream",
     "text": [
      "No Value Supplied\n",
      "Howdy!\n"
     ]
    }
   ],
   "source": [
    "# Giving function arguments a default value\n",
    "def SayHello(Greeting = \"No Value Supplied\"):\n",
    "    print(Greeting)\n",
    "    \n",
    "SayHello()\n",
    "SayHello(\"Howdy!\")"
   ]
  },
  {
   "cell_type": "code",
   "execution_count": 16,
   "metadata": {},
   "outputs": [
    {
     "name": "stdout",
     "output_type": "stream",
     "text": [
      "You passed 3 arguments. ('Hello', 1, True)\n"
     ]
    }
   ],
   "source": [
    "# Creating functions with a variable number of arguments\n",
    "def DisplayMulti(ArgCount = 0, *VarArgs):\n",
    "    print('You passed ' + str(ArgCount) + ' arguments.',\n",
    "    VarArgs) \n",
    "    \n",
    "DisplayMulti(3, 'Hello', 1, True)"
   ]
  },
  {
   "cell_type": "markdown",
   "metadata": {},
   "source": [
    "## Using Conditional and Loop Statements\n",
    "### Making decisions using the if statement"
   ]
  },
  {
   "cell_type": "code",
   "execution_count": 17,
   "metadata": {},
   "outputs": [
    {
     "name": "stdout",
     "output_type": "stream",
     "text": [
      "Value is something else.\n",
      "It equals 1\n",
      "Value equals 5!\n",
      "Value equals 6!\n"
     ]
    }
   ],
   "source": [
    "def TestValue(Value):\n",
    "    if Value == 5:\n",
    "        print('Value equals 5!')\n",
    "    elif Value == 6:\n",
    "        print('Value equals 6!')\n",
    "    else:\n",
    "        print('Value is something else.')\n",
    "        print('It equals ' + str(Value))\n",
    "        \n",
    "TestValue(1)\n",
    "TestValue(5)\n",
    "TestValue(6)"
   ]
  },
  {
   "cell_type": "markdown",
   "metadata": {},
   "source": [
    "### Choosing between multiple options using nested decisions"
   ]
  },
  {
   "cell_type": "code",
   "execution_count": 18,
   "metadata": {},
   "outputs": [
    {
     "name": "stdout",
     "output_type": "stream",
     "text": [
      "Type a number between 1 and 10: 20\n",
      "Type a number between 1 and 10: 10\n",
      "Incorrect first value!\n"
     ]
    }
   ],
   "source": [
    "def SecretNumber():\n",
    "    One = int(input(\"Type a number between 1 and 10: \"))\n",
    "    Two = int(input(\"Type a number between 1 and 10: \"))\n",
    "\n",
    "    if (One >= 1) and (One <= 10):\n",
    "        if (Two >= 1) and (Two <= 10):\n",
    "           print('Your secret number is: ' + str(One * Two))\n",
    "        else:\n",
    "           print(\"Incorrect second value!\")\n",
    "    else:\n",
    "        print(\"Incorrect first value!\")\n",
    "        \n",
    "SecretNumber()\n"
   ]
  },
  {
   "cell_type": "code",
   "execution_count": 19,
   "metadata": {},
   "outputs": [
    {
     "name": "stdout",
     "output_type": "stream",
     "text": [
      "Type a number between 1 and 10: 10\n",
      "Type a number between 1 and 10: 20\n",
      "Incorrect second value!\n"
     ]
    }
   ],
   "source": [
    "SecretNumber()"
   ]
  },
  {
   "cell_type": "code",
   "execution_count": 20,
   "metadata": {},
   "outputs": [
    {
     "name": "stdout",
     "output_type": "stream",
     "text": [
      "Type a number between 1 and 10: 10\n",
      "Type a number between 1 and 10: 10\n",
      "Your secret number is: 100\n"
     ]
    }
   ],
   "source": [
    "SecretNumber()"
   ]
  },
  {
   "cell_type": "markdown",
   "metadata": {},
   "source": [
    "### Performing repetitive tasks using for"
   ]
  },
  {
   "cell_type": "code",
   "execution_count": 21,
   "metadata": {},
   "outputs": [
    {
     "name": "stdout",
     "output_type": "stream",
     "text": [
      "Good Argument: Hello\n",
      "Good Argument: Goodbye\n",
      "Good Argument: First\n",
      "Good Argument: Last\n"
     ]
    }
   ],
   "source": [
    "def DisplayMulti(*VarArgs):\n",
    "    for Arg in VarArgs:\n",
    "        if Arg.upper() == 'CONT':\n",
    "            continue\n",
    "            print('Continue Argument: ' + Arg)\n",
    "        elif Arg.upper() == 'BREAK':\n",
    "            break\n",
    "            print('Break Argument: ' + Arg)\n",
    "        print('Good Argument: ' + Arg)\n",
    "        \n",
    "DisplayMulti('Hello', 'Goodbye', 'First', 'Last')"
   ]
  },
  {
   "cell_type": "code",
   "execution_count": 22,
   "metadata": {},
   "outputs": [
    {
     "name": "stdout",
     "output_type": "stream",
     "text": [
      "Good Argument: Hello\n",
      "Good Argument: Goodbye\n"
     ]
    }
   ],
   "source": [
    "DisplayMulti('Hello', 'Cont', 'Goodbye', 'Break', 'Last')"
   ]
  },
  {
   "cell_type": "markdown",
   "metadata": {},
   "source": [
    "### Using the while statement"
   ]
  },
  {
   "cell_type": "code",
   "execution_count": 24,
   "metadata": {},
   "outputs": [],
   "source": [
    "def SecretNumber():\n",
    "    GotIt = False\n",
    "    while GotIt == False:\n",
    "        One = int(input(\"Type a number between 1 and 10: \"))\n",
    "        Two = int(input(\"Type a number between 1 and 10: \"))\n",
    "\n",
    "        if (One >= 1) and (One <= 10):\n",
    "            if (Two >= 1) and (Two <= 10):\n",
    "                print('Secret number is: ' + str(One * Two))\n",
    "                GotIt = True\n",
    "                continue\n",
    "            else:\n",
    "                print(\"Incorrect second value!\")\n",
    "        else:\n",
    "            print(\"Incorrect first value!\")\n",
    "        print(\"Try again!\")"
   ]
  },
  {
   "cell_type": "code",
   "execution_count": 25,
   "metadata": {},
   "outputs": [
    {
     "name": "stdout",
     "output_type": "stream",
     "text": [
      "Type a number between 1 and 10: 20\n",
      "Type a number between 1 and 10: 10\n",
      "Incorrect first value!\n",
      "Try again!\n",
      "Type a number between 1 and 10: 10\n",
      "Type a number between 1 and 10: 20\n",
      "Incorrect second value!\n",
      "Try again!\n",
      "Type a number between 1 and 10: 10\n",
      "Type a number between 1 and 10: 10\n",
      "Secret number is: 100\n"
     ]
    }
   ],
   "source": [
    "SecretNumber()"
   ]
  },
  {
   "cell_type": "markdown",
   "metadata": {},
   "source": [
    "## Storing Data Using Sets, Lists, and Tuples\n",
    "### Performing operations on sets\n",
    "\n",
    "The \"sets\" module was deprecated in Python 3, so it is not longer required. Also the print statement was updated to use Python 3 format."
   ]
  },
  {
   "cell_type": "code",
   "execution_count": 37,
   "metadata": {},
   "outputs": [
    {
     "name": "stdout",
     "output_type": "stream",
     "text": [
      "{'Blue', 'Green', 'Orange', 'Yellow', 'Black', 'Red'}\n",
      "{'Green', 'Black'}\n",
      "{'Blue', 'Red'}\n"
     ]
    }
   ],
   "source": [
    "#from sets import Set\n",
    "SetA = set(['Red', 'Blue', 'Green', 'Black'])\n",
    "SetB = set(['Black', 'Green', 'Yellow', 'Orange'])\n",
    "SetX = SetA.union(SetB)\n",
    "SetY = SetA.intersection(SetB)\n",
    "SetZ = SetA.difference(SetB)\n",
    "\n",
    "print('{0}\\n{1}\\n{2}'.format(SetX, SetY, SetZ))"
   ]
  },
  {
   "cell_type": "code",
   "execution_count": 38,
   "metadata": {},
   "outputs": [
    {
     "data": {
      "text/plain": [
       "True"
      ]
     },
     "execution_count": 38,
     "metadata": {},
     "output_type": "execute_result"
    }
   ],
   "source": [
    "# Test relationships between sets\n",
    "SetA.issuperset(SetY)"
   ]
  },
  {
   "cell_type": "code",
   "execution_count": 39,
   "metadata": {},
   "outputs": [
    {
     "data": {
      "text/plain": [
       "True"
      ]
     },
     "execution_count": 39,
     "metadata": {},
     "output_type": "execute_result"
    }
   ],
   "source": [
    "SetA.issubset(SetX)"
   ]
  },
  {
   "cell_type": "code",
   "execution_count": 40,
   "metadata": {},
   "outputs": [
    {
     "name": "stdout",
     "output_type": "stream",
     "text": [
      "{'Blue', 'Red', 'Green', 'Black'}\n",
      "{'Blue', 'Green', 'Black', 'Red', 'Purple'}\n"
     ]
    },
    {
     "data": {
      "text/plain": [
       "False"
      ]
     },
     "execution_count": 40,
     "metadata": {},
     "output_type": "execute_result"
    }
   ],
   "source": [
    "print(SetA)\n",
    "SetA.add('Purple')\n",
    "print(SetA)\n",
    "SetA.issubset(SetX) "
   ]
  },
  {
   "cell_type": "markdown",
   "metadata": {},
   "source": [
    "### Working with lists"
   ]
  },
  {
   "cell_type": "code",
   "execution_count": 104,
   "metadata": {},
   "outputs": [
    {
     "name": "stdout",
     "output_type": "stream",
     "text": [
      "[0, 1, 2, 3, 4, 5, 6, 7]\n",
      "[0, 1, 2, 3, 4, 5, 6, 7, -5]\n",
      "[0, 1, 2, 3, 4, 5, 6, 7]\n",
      "[0, 1, 2, 3, 4, 5, 6, 7, 4, 5, 6, 7]\n"
     ]
    }
   ],
   "source": [
    "ListA = [0, 1, 2, 3]\n",
    "ListB = [4, 5, 6, 7]\n",
    "ListA.extend(ListB)\n",
    "print(ListA)\n",
    "ListA.append(-5)\n",
    "print(ListA)\n",
    "ListA.remove(-5)\n",
    "print(ListA)\n",
    "\n",
    "# List concatenation\n",
    "ListX = ListA + ListB\n",
    "print(ListX)"
   ]
  },
  {
   "cell_type": "markdown",
   "metadata": {},
   "source": [
    "## Creating and using Tuples"
   ]
  },
  {
   "cell_type": "code",
   "execution_count": 109,
   "metadata": {},
   "outputs": [
    {
     "name": "stdout",
     "output_type": "stream",
     "text": [
      "1\n",
      "2\n",
      "3\n",
      "\t 4\n",
      "\t 5\n",
      "\t 6\n",
      "\t\t 7\n",
      "\t\t 8\n",
      "\t\t 9\n"
     ]
    }
   ],
   "source": [
    "MyTuple = (1, 2, 3, (4, 5, 6, (7, 8, 9)))\n",
    "\n",
    "\n",
    "for Value1 in MyTuple:\n",
    "    if type(Value1) == int:\n",
    "        print(Value1)\n",
    "    else:\n",
    "        for Value2 in Value1:\n",
    "            if type(Value2) == int:\n",
    "                print(\"\\t\", Value2)\n",
    "            else:\n",
    "                for Value3 in Value2:\n",
    "                    print(\"\\t\\t\", Value3)"
   ]
  },
  {
   "cell_type": "code",
   "execution_count": 113,
   "metadata": {},
   "outputs": [
    {
     "name": "stdout",
     "output_type": "stream",
     "text": [
      "(1, 2, 3, (4, 5, 6, (7, 8, 9)), 10, 11, 12, (13, 14, 15))\n",
      "1\n",
      "2\n",
      "3\n",
      "\t 4\n",
      "\t 5\n",
      "\t 6\n",
      "\t\t 7\n",
      "\t\t 8\n",
      "\t\t 9\n",
      "10\n",
      "11\n",
      "12\n",
      "\t 13\n",
      "\t 14\n",
      "\t 15\n"
     ]
    }
   ],
   "source": [
    "# Sneaky way of adding tuples to an existing tuple\n",
    "MyNewTuple = MyTuple.__add__((10, 11, 12, (13, 14, 15)))\n",
    "print(MyNewTuple)\n",
    "\n",
    "\n",
    "for Value1 in MyNewTuple:\n",
    "    if type(Value1) == int:\n",
    "        print(Value1)\n",
    "    else:\n",
    "        for Value2 in Value1:\n",
    "            if type(Value2) == int:\n",
    "                print(\"\\t\", Value2)\n",
    "            else:\n",
    "                for Value3 in Value2:\n",
    "                    print(\"\\t\\t\", Value3)"
   ]
  },
  {
   "cell_type": "markdown",
   "metadata": {},
   "source": [
    "## Iterators"
   ]
  },
  {
   "cell_type": "code",
   "execution_count": 118,
   "metadata": {},
   "outputs": [
    {
     "name": "stdout",
     "output_type": "stream",
     "text": [
      "Yellow\n",
      "[2, 3]\n",
      "2\n",
      "3\n"
     ]
    }
   ],
   "source": [
    "ListA = ['Orange', 'Yellow', 'Green', 'Brown']\n",
    "ListB = [1, 2, 3, 4]\n",
    "print(ListA[1])\n",
    "print(ListB[1:3])\n",
    "\n",
    "for Value in ListB[1:3]:\n",
    "    print(Value) "
   ]
  },
  {
   "cell_type": "code",
   "execution_count": 120,
   "metadata": {},
   "outputs": [
    {
     "name": "stdout",
     "output_type": "stream",
     "text": [
      "Orange \t 1\n",
      "Yellow \t 2\n",
      "Green \t 3\n",
      "Brown \t 4\n"
     ]
    }
   ],
   "source": [
    "# process two lists in parallel with zip()\n",
    "\n",
    "for Value1, Value2 in zip(ListA, ListB):\n",
    "    print(Value1, '\\t', Value2)\n"
   ]
  },
  {
   "cell_type": "markdown",
   "metadata": {},
   "source": [
    "## Dictionaries"
   ]
  },
  {
   "cell_type": "code",
   "execution_count": 123,
   "metadata": {},
   "outputs": [
    {
     "name": "stdout",
     "output_type": "stream",
     "text": [
      "{'Orange': 1, 'Blue': 2, 'Pink': 3}\n"
     ]
    }
   ],
   "source": [
    "MyDict = {'Orange':1, 'Blue':2, 'Pink':3}\n",
    "print(MyDict)"
   ]
  },
  {
   "cell_type": "code",
   "execution_count": 122,
   "metadata": {},
   "outputs": [
    {
     "data": {
      "text/plain": [
       "3"
      ]
     },
     "execution_count": 122,
     "metadata": {},
     "output_type": "execute_result"
    }
   ],
   "source": [
    "MyDict['Pink']"
   ]
  },
  {
   "cell_type": "code",
   "execution_count": 125,
   "metadata": {},
   "outputs": [
    {
     "name": "stdout",
     "output_type": "stream",
     "text": [
      "dict_keys(['Orange', 'Blue', 'Pink'])\n"
     ]
    }
   ],
   "source": [
    "print(MyDict.keys())"
   ]
  },
  {
   "cell_type": "code",
   "execution_count": 126,
   "metadata": {},
   "outputs": [
    {
     "name": "stdout",
     "output_type": "stream",
     "text": [
      "dict_values([1, 2, 3])\n"
     ]
    }
   ],
   "source": [
    "print(MyDict.values())"
   ]
  },
  {
   "cell_type": "markdown",
   "metadata": {},
   "source": [
    "# Chapter 5: Working with Real Data"
   ]
  },
  {
   "cell_type": "code",
   "execution_count": null,
   "metadata": {},
   "outputs": [],
   "source": []
  }
 ],
 "metadata": {
  "kernelspec": {
   "display_name": "Python 3",
   "language": "python",
   "name": "python3"
  },
  "language_info": {
   "codemirror_mode": {
    "name": "ipython",
    "version": 3
   },
   "file_extension": ".py",
   "mimetype": "text/x-python",
   "name": "python",
   "nbconvert_exporter": "python",
   "pygments_lexer": "ipython3",
   "version": "3.7.4"
  }
 },
 "nbformat": 4,
 "nbformat_minor": 2
}
