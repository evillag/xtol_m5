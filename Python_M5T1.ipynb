{
 "cells": [
  {
   "cell_type": "markdown",
   "metadata": {},
   "source": [
    "# Exercises from chapters 4 and 5 from the book *Python Data Science for Dummies* by Luca Massaron and John Paul Mueller; first edition, 2015\n",
    "\n",
    "## Working with Numbers and Logic"
   ]
  },
  {
   "cell_type": "code",
   "execution_count": null,
   "metadata": {},
   "outputs": [],
   "source": []
  },
  {
   "cell_type": "markdown",
   "metadata": {},
   "source": [
    "## Interacting with Dates"
   ]
  },
  {
   "cell_type": "code",
   "execution_count": 1,
   "metadata": {},
   "outputs": [
    {
     "data": {
      "text/plain": [
       "datetime.datetime(2020, 2, 19, 23, 48, 52, 39679)"
      ]
     },
     "execution_count": 1,
     "metadata": {},
     "output_type": "execute_result"
    }
   ],
   "source": [
    "import datetime\n",
    "\n",
    "# Get the current date and time using the now() command.\n",
    "datetime.datetime.now()"
   ]
  },
  {
   "cell_type": "code",
   "execution_count": 4,
   "metadata": {},
   "outputs": [
    {
     "data": {
      "text/plain": [
       "'2020-02-19'"
      ]
     },
     "execution_count": 4,
     "metadata": {},
     "output_type": "execute_result"
    }
   ],
   "source": [
    "# Make the date and time more readable using the str() command.\n",
    "str(datetime.datetime.now().date())"
   ]
  },
  {
   "cell_type": "markdown",
   "metadata": {},
   "source": [
    "## Creating reusable functions"
   ]
  },
  {
   "cell_type": "code",
   "execution_count": 6,
   "metadata": {},
   "outputs": [
    {
     "name": "stdout",
     "output_type": "stream",
     "text": [
      "Hello There!\n"
     ]
    }
   ],
   "source": [
    "def SayHello():\n",
    "    print('Hello There!')\n",
    "    \n",
    "SayHello()"
   ]
  },
  {
   "cell_type": "markdown",
   "metadata": {},
   "source": [
    "## Calling functions in a variety of ways"
   ]
  },
  {
   "cell_type": "code",
   "execution_count": 8,
   "metadata": {},
   "outputs": [
    {
     "ename": "TypeError",
     "evalue": "DoSum() missing 2 required positional arguments: 'Value1' and 'Value2'",
     "output_type": "error",
     "traceback": [
      "\u001b[1;31m---------------------------------------------------------------------------\u001b[0m",
      "\u001b[1;31mTypeError\u001b[0m                                 Traceback (most recent call last)",
      "\u001b[1;32m<ipython-input-8-770f152214cd>\u001b[0m in \u001b[0;36m<module>\u001b[1;34m\u001b[0m\n\u001b[0;32m      3\u001b[0m     \u001b[1;32mreturn\u001b[0m \u001b[0mValue1\u001b[0m \u001b[1;33m+\u001b[0m \u001b[0mValue2\u001b[0m\u001b[1;33m\u001b[0m\u001b[1;33m\u001b[0m\u001b[0m\n\u001b[0;32m      4\u001b[0m \u001b[1;33m\u001b[0m\u001b[0m\n\u001b[1;32m----> 5\u001b[1;33m \u001b[0mDoSum\u001b[0m\u001b[1;33m(\u001b[0m\u001b[1;33m)\u001b[0m\u001b[1;33m\u001b[0m\u001b[1;33m\u001b[0m\u001b[0m\n\u001b[0m",
      "\u001b[1;31mTypeError\u001b[0m: DoSum() missing 2 required positional arguments: 'Value1' and 'Value2'"
     ]
    }
   ],
   "source": [
    "# Sending required arguments\n",
    "def DoSum(Value1, Value2):\n",
    "    return Value1 + Value2\n",
    "\n",
    "DoSum()"
   ]
  },
  {
   "cell_type": "code",
   "execution_count": 9,
   "metadata": {},
   "outputs": [
    {
     "data": {
      "text/plain": [
       "3"
      ]
     },
     "execution_count": 9,
     "metadata": {},
     "output_type": "execute_result"
    }
   ],
   "source": [
    "DoSum(1, 2)"
   ]
  },
  {
   "cell_type": "code",
   "execution_count": 12,
   "metadata": {},
   "outputs": [
    {
     "name": "stdout",
     "output_type": "stream",
     "text": [
      "2 + 3 = 5\n",
      "2 + 3 = 5\n"
     ]
    }
   ],
   "source": [
    "# Sending arguments by keyword\n",
    "def DisplaySum(Value1, Value2):\n",
    "    print(str(Value1) + ' + ' + str(Value2) + ' = ' +\n",
    "    str((Value1 + Value2)))\n",
    "    \n",
    "DisplaySum(2, 3)\n",
    "\n",
    "DisplaySum(Value2 = 3, Value1 = 2)"
   ]
  },
  {
   "cell_type": "code",
   "execution_count": 13,
   "metadata": {},
   "outputs": [
    {
     "name": "stdout",
     "output_type": "stream",
     "text": [
      "No Value Supplied\n",
      "Howdy!\n"
     ]
    }
   ],
   "source": [
    "# Giving function arguments a default value\n",
    "def SayHello(Greeting = \"No Value Supplied\"):\n",
    "    print(Greeting)\n",
    "    \n",
    "SayHello()\n",
    "SayHello(\"Howdy!\")"
   ]
  },
  {
   "cell_type": "code",
   "execution_count": 16,
   "metadata": {},
   "outputs": [
    {
     "name": "stdout",
     "output_type": "stream",
     "text": [
      "You passed 3 arguments. ('Hello', 1, True)\n"
     ]
    }
   ],
   "source": [
    "# Creating functions with a variable number of arguments\n",
    "def DisplayMulti(ArgCount = 0, *VarArgs):\n",
    "    print('You passed ' + str(ArgCount) + ' arguments.',\n",
    "    VarArgs) \n",
    "    \n",
    "DisplayMulti(3, 'Hello', 1, True)"
   ]
  },
  {
   "cell_type": "markdown",
   "metadata": {},
   "source": [
    "## Using Conditional and Loop Statements\n",
    "### Making decisions using the if statement"
   ]
  },
  {
   "cell_type": "code",
   "execution_count": 17,
   "metadata": {},
   "outputs": [
    {
     "name": "stdout",
     "output_type": "stream",
     "text": [
      "Value is something else.\n",
      "It equals 1\n",
      "Value equals 5!\n",
      "Value equals 6!\n"
     ]
    }
   ],
   "source": [
    "def TestValue(Value):\n",
    "    if Value == 5:\n",
    "        print('Value equals 5!')\n",
    "    elif Value == 6:\n",
    "        print('Value equals 6!')\n",
    "    else:\n",
    "        print('Value is something else.')\n",
    "        print('It equals ' + str(Value))\n",
    "        \n",
    "TestValue(1)\n",
    "TestValue(5)\n",
    "TestValue(6)"
   ]
  },
  {
   "cell_type": "markdown",
   "metadata": {},
   "source": [
    "### Choosing between multiple options using nested decisions"
   ]
  },
  {
   "cell_type": "code",
   "execution_count": 18,
   "metadata": {},
   "outputs": [
    {
     "name": "stdout",
     "output_type": "stream",
     "text": [
      "Type a number between 1 and 10: 20\n",
      "Type a number between 1 and 10: 10\n",
      "Incorrect first value!\n"
     ]
    }
   ],
   "source": [
    "def SecretNumber():\n",
    "    One = int(input(\"Type a number between 1 and 10: \"))\n",
    "    Two = int(input(\"Type a number between 1 and 10: \"))\n",
    "\n",
    "    if (One >= 1) and (One <= 10):\n",
    "        if (Two >= 1) and (Two <= 10):\n",
    "           print('Your secret number is: ' + str(One * Two))\n",
    "        else:\n",
    "           print(\"Incorrect second value!\")\n",
    "    else:\n",
    "        print(\"Incorrect first value!\")\n",
    "        \n",
    "SecretNumber()\n"
   ]
  },
  {
   "cell_type": "code",
   "execution_count": 19,
   "metadata": {},
   "outputs": [
    {
     "name": "stdout",
     "output_type": "stream",
     "text": [
      "Type a number between 1 and 10: 10\n",
      "Type a number between 1 and 10: 20\n",
      "Incorrect second value!\n"
     ]
    }
   ],
   "source": [
    "SecretNumber()"
   ]
  },
  {
   "cell_type": "code",
   "execution_count": 20,
   "metadata": {},
   "outputs": [
    {
     "name": "stdout",
     "output_type": "stream",
     "text": [
      "Type a number between 1 and 10: 10\n",
      "Type a number between 1 and 10: 10\n",
      "Your secret number is: 100\n"
     ]
    }
   ],
   "source": [
    "SecretNumber()"
   ]
  },
  {
   "cell_type": "markdown",
   "metadata": {},
   "source": [
    "### Performing repetitive tasks using for"
   ]
  },
  {
   "cell_type": "code",
   "execution_count": 21,
   "metadata": {},
   "outputs": [
    {
     "name": "stdout",
     "output_type": "stream",
     "text": [
      "Good Argument: Hello\n",
      "Good Argument: Goodbye\n",
      "Good Argument: First\n",
      "Good Argument: Last\n"
     ]
    }
   ],
   "source": [
    "def DisplayMulti(*VarArgs):\n",
    "    for Arg in VarArgs:\n",
    "        if Arg.upper() == 'CONT':\n",
    "            continue\n",
    "            print('Continue Argument: ' + Arg)\n",
    "        elif Arg.upper() == 'BREAK':\n",
    "            break\n",
    "            print('Break Argument: ' + Arg)\n",
    "        print('Good Argument: ' + Arg)\n",
    "        \n",
    "DisplayMulti('Hello', 'Goodbye', 'First', 'Last')"
   ]
  },
  {
   "cell_type": "code",
   "execution_count": 22,
   "metadata": {},
   "outputs": [
    {
     "name": "stdout",
     "output_type": "stream",
     "text": [
      "Good Argument: Hello\n",
      "Good Argument: Goodbye\n"
     ]
    }
   ],
   "source": [
    "DisplayMulti('Hello', 'Cont', 'Goodbye', 'Break', 'Last')"
   ]
  },
  {
   "cell_type": "markdown",
   "metadata": {},
   "source": [
    "### Using the while statement"
   ]
  },
  {
   "cell_type": "code",
   "execution_count": 24,
   "metadata": {},
   "outputs": [],
   "source": [
    "def SecretNumber():\n",
    "    GotIt = False\n",
    "    while GotIt == False:\n",
    "        One = int(input(\"Type a number between 1 and 10: \"))\n",
    "        Two = int(input(\"Type a number between 1 and 10: \"))\n",
    "\n",
    "        if (One >= 1) and (One <= 10):\n",
    "            if (Two >= 1) and (Two <= 10):\n",
    "                print('Secret number is: ' + str(One * Two))\n",
    "                GotIt = True\n",
    "                continue\n",
    "            else:\n",
    "                print(\"Incorrect second value!\")\n",
    "        else:\n",
    "            print(\"Incorrect first value!\")\n",
    "        print(\"Try again!\")"
   ]
  },
  {
   "cell_type": "code",
   "execution_count": 25,
   "metadata": {},
   "outputs": [
    {
     "name": "stdout",
     "output_type": "stream",
     "text": [
      "Type a number between 1 and 10: 20\n",
      "Type a number between 1 and 10: 10\n",
      "Incorrect first value!\n",
      "Try again!\n",
      "Type a number between 1 and 10: 10\n",
      "Type a number between 1 and 10: 20\n",
      "Incorrect second value!\n",
      "Try again!\n",
      "Type a number between 1 and 10: 10\n",
      "Type a number between 1 and 10: 10\n",
      "Secret number is: 100\n"
     ]
    }
   ],
   "source": [
    "SecretNumber()"
   ]
  },
  {
   "cell_type": "code",
   "execution_count": null,
   "metadata": {},
   "outputs": [],
   "source": []
  }
 ],
 "metadata": {
  "kernelspec": {
   "display_name": "Python 3",
   "language": "python",
   "name": "python3"
  },
  "language_info": {
   "codemirror_mode": {
    "name": "ipython",
    "version": 3
   },
   "file_extension": ".py",
   "mimetype": "text/x-python",
   "name": "python",
   "nbconvert_exporter": "python",
   "pygments_lexer": "ipython3",
   "version": "3.7.4"
  }
 },
 "nbformat": 4,
 "nbformat_minor": 2
}
